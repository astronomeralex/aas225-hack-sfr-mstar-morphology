{
 "metadata": {
  "name": "",
  "signature": "sha256:20e4a3f74d60e5253ebbb024db5e99102e1deb7bcb50df90be3c4d84ea789ce3"
 },
 "nbformat": 3,
 "nbformat_minor": 0,
 "worksheets": [
  {
   "cells": [
    {
     "cell_type": "code",
     "collapsed": false,
     "input": [
      "import numpy as np\n",
      "%matplotlib inline\n",
      "import scipy\n",
      "from astropy import units as u\n",
      "from astropy.coordinates import SkyCoord\n",
      "from astropy.io import ascii\n",
      "from ecdf import ecdf"
     ],
     "language": "python",
     "metadata": {},
     "outputs": []
    },
    {
     "cell_type": "code",
     "collapsed": false,
     "input": [
      "uvista = ascii.read(\"UVISTA_final_v4.1.cat\")\n",
      "cosmos = ascii.read(\"cosmos_morph_zurich.tbl.txt\")"
     ],
     "language": "python",
     "metadata": {},
     "outputs": []
    },
    {
     "cell_type": "code",
     "collapsed": false,
     "input": [
      "#ipac tables come with units, but don't play nice with astropy units\n",
      "cosmos['ra'].unit = u.degree\n",
      "cosmos['dec'].unit = u.degree\n",
      "#make ra/dec SkyCoord objects for catalog matching\n",
      "cosmos_coords = SkyCoord(cosmos['ra'],cosmos['dec'],frame=\"icrs\", unit=\"deg\")\n",
      "uvista_coords = SkyCoord(uvista['ra'],uvista['dec'],frame=\"icrs\", unit=\"deg\")"
     ],
     "language": "python",
     "metadata": {},
     "outputs": []
    },
    {
     "cell_type": "code",
     "collapsed": false,
     "input": [
      "idx, d2d, d3d = cosmos_coords.match_to_catalog_sky(uvista_coords)\n",
      "#idx is an array of length cosmos_coords that contains the index of the closest match in uvista_coords\n",
      "#d2d is the two dimensional distance between the cosmos_coords object and its best match"
     ],
     "language": "python",
     "metadata": {},
     "outputs": []
    },
    {
     "cell_type": "code",
     "collapsed": false,
     "input": [
      "matchx, matchy, matchyvar = ecdf(d2d.arcsec)\n",
      "semilogx(matchx,matchy)\n",
      "ylabel(\"ECDF\")\n",
      "xlabel(\"Nearest Match Distance (Arcsec)\")"
     ],
     "language": "python",
     "metadata": {},
     "outputs": []
    },
    {
     "cell_type": "code",
     "collapsed": false,
     "input": [
      "u, u_counts = np.unique(idx[d2d.arcsec < 2],return_counts=True)\n",
      "len(u[u_counts==1])"
     ],
     "language": "python",
     "metadata": {},
     "outputs": []
    },
    {
     "cell_type": "code",
     "collapsed": false,
     "input": [],
     "language": "python",
     "metadata": {},
     "outputs": []
    }
   ],
   "metadata": {}
  }
 ]
}