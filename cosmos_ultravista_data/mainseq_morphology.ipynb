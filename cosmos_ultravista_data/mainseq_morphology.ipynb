{
 "cells": [
  {
   "cell_type": "code",
   "execution_count": null,
   "metadata": {
    "collapsed": false
   },
   "outputs": [],
   "source": [
    "from astropy.io import ascii\n",
    "import numpy as np\n",
    "import scipy.stats\n",
    "import matplotlib\n",
    "from matplotlib.pyplot import *\n",
    "%matplotlib inline\n",
    "from ecdf import ecdf"
   ]
  },
  {
   "cell_type": "code",
   "execution_count": null,
   "metadata": {
    "collapsed": false
   },
   "outputs": [],
   "source": [
    "cat = ascii.read(\"matched_cat_0.5arcsec_2arcsec_uniq.cat\")\n",
    "cat = cat[cat['SFR_tot']>0]\n",
    "cat = cat[cat['gg']!='--']\n",
    "cat = cat[cat['m20']!='--']\n",
    "cat = cat[cat['cc']!='--']\n",
    "cat = cat[cat['aa']!='--']"
   ]
  },
  {
   "cell_type": "code",
   "execution_count": null,
   "metadata": {
    "collapsed": false
   },
   "outputs": [],
   "source": [
    "cat.colnames"
   ]
  },
  {
   "cell_type": "code",
   "execution_count": null,
   "metadata": {
    "collapsed": false
   },
   "outputs": [],
   "source": [
    "zx,zy,zvar = ecdf(cat[\"z_peak\"])\n",
    "plot(zx,zy)"
   ]
  },
  {
   "cell_type": "code",
   "execution_count": null,
   "metadata": {
    "collapsed": false
   },
   "outputs": [],
   "source": [
    "#semilogy(cat[\"LMASS\"][::20],cat[\"SFR_tot\"][::20],'.')\n",
    "#ylim(.1,1000)\n",
    "#xlim(8,11.5)\n",
    "#MAKE Contour plots\n",
    "slope, intercept, loslope, highslope = scipy.stats.theilslopes(x=cat['LMASS'][::20],y=np.log10(cat[\"SFR_tot\"][::20]))\n",
    "plot(np.linspace(8,12,100),slope*np.linspace(8,12,100) + intercept)\n",
    "hexbin(cat[\"LMASS\"],np.log10(cat[\"SFR_tot\"]))\n",
    "xlim(8,11.5)\n",
    "ylim(-1,3)\n",
    "#now try clustering to get rid of red cloud clump"
   ]
  },
  {
   "cell_type": "code",
   "execution_count": null,
   "metadata": {
    "collapsed": false
   },
   "outputs": [],
   "source": [
    "semilogx(cat[\"SFR_tot\"],cat[\"gg\"],'.')"
   ]
  },
  {
   "cell_type": "code",
   "execution_count": null,
   "metadata": {
    "collapsed": false
   },
   "outputs": [],
   "source": [
    "semilogx(cat[\"SFR_tot\"],cat[\"m20\"],'.')"
   ]
  },
  {
   "cell_type": "code",
   "execution_count": null,
   "metadata": {
    "collapsed": false
   },
   "outputs": [],
   "source": [
    "semilogx(cat[\"SFR_tot\"],cat[\"cc\"],'.')"
   ]
  },
  {
   "cell_type": "code",
   "execution_count": null,
   "metadata": {
    "collapsed": false
   },
   "outputs": [],
   "source": [
    "semilogx(cat[\"SFR_tot\"],cat[\"aa\"],'.')"
   ]
  },
  {
   "cell_type": "code",
   "execution_count": null,
   "metadata": {
    "collapsed": false
   },
   "outputs": [],
   "source": []
  },
  {
   "cell_type": "code",
   "execution_count": null,
   "metadata": {
    "collapsed": false
   },
   "outputs": [],
   "source": []
  }
 ],
 "metadata": {
  "kernelspec": {
   "display_name": "Python 3",
   "language": "python",
   "name": "python3"
  },
  "language_info": {
   "codemirror_mode": {
    "name": "ipython",
    "version": 3
   },
   "file_extension": ".py",
   "mimetype": "text/x-python",
   "name": "python",
   "nbconvert_exporter": "python",
   "pygments_lexer": "ipython3",
   "version": "3.4.3"
  }
 },
 "nbformat": 4,
 "nbformat_minor": 0
}
