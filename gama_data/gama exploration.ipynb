{
 "metadata": {
  "name": "",
  "signature": "sha256:e269914310ead30647a22520c13f5b24418cf85d0cca1347038d861575d631d1"
 },
 "nbformat": 3,
 "nbformat_minor": 0,
 "worksheets": [
  {
   "cells": [
    {
     "cell_type": "code",
     "collapsed": false,
     "input": [
      "from matplotlib.pyplot import *\n",
      "from astropy.io import fits\n",
      "import numpy as np\n",
      "import scipy.stats\n",
      "%matplotlib inline"
     ],
     "language": "python",
     "metadata": {},
     "outputs": []
    },
    {
     "cell_type": "code",
     "collapsed": false,
     "input": [
      "hdulist = fits.open(\"GAMA_data_table.fits\")\n",
      "gamatbl = hdulist[1].data\n",
      "print(gamatbl.columns)"
     ],
     "language": "python",
     "metadata": {},
     "outputs": []
    },
    {
     "cell_type": "code",
     "collapsed": false,
     "input": [
      "b = gamatbl[\"Z\"] < 0.05\n",
      "semilogy(gamatbl[\"logmstar\"][b],gamatbl[\"SFR\"][b],'.',label = \"z < 0.05\")\n",
      "b2 = (gamatbl[\"Z\"] > 0.05) & (gamatbl[\"Z\"] < 0.1)\n",
      "semilogy(gamatbl[\"logmstar\"][b2],gamatbl[\"SFR\"][b2],'.',label = \"0.05 < z < 0.10\")\n",
      "b3 = (gamatbl[\"Z\"] > 0.1) & (gamatbl[\"Z\"] < 0.15)\n",
      "semilogy(gamatbl[\"logmstar\"][b3],gamatbl[\"SFR\"][b3],'.',label = \"0.10 < z < 0.15\")\n",
      "b4 = (gamatbl[\"Z\"] > 0.15) & (gamatbl[\"Z\"] < 0.20)\n",
      "semilogy(gamatbl[\"logmstar\"][b4],gamatbl[\"SFR\"][b4],'.',label = \"0.15 < z < 0.20\")\n",
      "xlabel(\"Log Stellar Mass\")\n",
      "ylabel(r\"H$\\alpha$ Dust-Corrected SFR\")\n",
      "xlim(7,11)\n",
      "ylim(0.001,100)\n",
      "legend(loc=0)\n",
      "title(\"Main Sequence 0.0 < z < 0.2\")"
     ],
     "language": "python",
     "metadata": {},
     "outputs": []
    },
    {
     "cell_type": "code",
     "collapsed": false,
     "input": [
      "slope,intercept,lowerslope,upperslope = scipy.stats.theilslopes(x=gamatbl[\"logmstar\"][b],y=np.log10(gamatbl[\"SFR\"][b]))\n",
      "print(slope,lowerslope,upperslope)\n",
      "slope,intercept,lowerslope,upperslope = scipy.stats.theilslopes(x=gamatbl[\"logmstar\"][b2],y=np.log10(gamatbl[\"SFR\"][b2]))\n",
      "print(slope,lowerslope,upperslope)\n",
      "slope,intercept,lowerslope,upperslope = scipy.stats.theilslopes(x=gamatbl[\"logmstar\"][b3],y=np.log10(gamatbl[\"SFR\"][b3]))\n",
      "print(slope,lowerslope,upperslope)\n",
      "slope,intercept,lowerslope,upperslope = scipy.stats.theilslopes(x=gamatbl[\"logmstar\"][b4],y=np.log10(gamatbl[\"SFR\"][b4]))\n",
      "print(slope,lowerslope,upperslope)\n",
      "zlt01 = gamatbl[\"Z\"] < 0.1\n",
      "slope,intercept,lowerslope,upperslope = scipy.stats.theilslopes(x=gamatbl[\"logmstar\"][zlt01],y=np.log10(gamatbl[\"SFR\"][zlt01]))\n",
      "print(slope,lowerslope,upperslope)\n",
      "#zlt02 = gamatbl[\"Z\"] < 0.2\n",
      "#slope,intercept,lowerslope,upperslope = scipy.stats.theilslopes(x=gamatbl[\"logmstar\"][zlt02],y=np.log10(gamatbl[\"SFR\"][zlt02]))\n",
      "#print(slope,lowerslope,upperslope)"
     ],
     "language": "python",
     "metadata": {},
     "outputs": []
    },
    {
     "cell_type": "code",
     "collapsed": false,
     "input": [
      "plot(gamatbl[\"logmstar\"][zlt01],np.log10(gamatbl[\"SFR\"][zlt01]) - (slope*gamatbl[\"logmstar\"][zlt01] + intercept),'.')\n",
      "xlabel(\"Log Stellar Mass\")\n",
      "ylabel(\"SFR - Main Sequence Line\")\n",
      "ylim(-2,2)\n",
      "xlim(7,11)\n",
      "title(\"Main Sequence Residuals\")\n",
      "stellarmass = gamatbl[\"logmstar\"][zlt01]\n",
      "msresiduals = np.log10(gamatbl[\"SFR\"][zlt01]) - (slope*gamatbl[\"logmstar\"][zlt01] + intercept)"
     ],
     "language": "python",
     "metadata": {},
     "outputs": []
    },
    {
     "cell_type": "code",
     "collapsed": false,
     "input": [
      "uregood = gamatbl['GAL_QFLAG_U'][zlt01] == 0\n",
      "plot(gamatbl[\"GAL_RE_U\"][zlt01][uregood],msresiduals[uregood],'.')\n",
      "print(scipy.stats.kendalltau(gamatbl[\"GAL_RE_U\"][zlt01][uregood],msresiduals[uregood]))\n",
      "print(scipy.stats.theilslopes(gamatbl[\"GAL_RE_U\"][zlt01][uregood],msresiduals[uregood]))\n",
      "print(scipy.stats.linregress(gamatbl[\"GAL_RE_U\"][zlt01][uregood],msresiduals[uregood]))"
     ],
     "language": "python",
     "metadata": {},
     "outputs": []
    },
    {
     "cell_type": "code",
     "collapsed": false,
     "input": [
      "uregood = gamatbl['GAL_QFLAG_U'][zlt01] == 0\n",
      "plot(gamatbl[\"GAL_INDEX_U\"][zlt01][uregood],msresiduals[uregood],'.')\n",
      "print(scipy.stats.kendalltau(gamatbl[\"GAL_INDEX_U\"][zlt01][uregood],msresiduals[uregood]))\n",
      "print(scipy.stats.theilslopes(gamatbl[\"GAL_INDEX_U\"][zlt01][uregood],msresiduals[uregood]))\n",
      "print(scipy.stats.linregress(gamatbl[\"GAL_INDEX_U\"][zlt01][uregood],msresiduals[uregood]))"
     ],
     "language": "python",
     "metadata": {},
     "outputs": []
    },
    {
     "cell_type": "code",
     "collapsed": false,
     "input": [
      "uregood = gamatbl['GAL_QFLAG_U'][zlt01] == 0\n",
      "plot(gamatbl[\"GAL_ELLIP_U\"][zlt01][uregood],msresiduals[uregood],'.')\n",
      "print(scipy.stats.kendalltau(gamatbl[\"GAL_ELLIP_U\"][zlt01][uregood],msresiduals[uregood]))\n",
      "print(scipy.stats.theilslopes(gamatbl[\"GAL_ELLIP_U\"][zlt01][uregood],msresiduals[uregood]))\n",
      "print(scipy.stats.linregress(gamatbl[\"GAL_ELLIP_U\"][zlt01][uregood],msresiduals[uregood]))"
     ],
     "language": "python",
     "metadata": {},
     "outputs": []
    },
    {
     "cell_type": "code",
     "collapsed": false,
     "input": [
      "g_good = gamatbl['GAL_QFLAG_G'][zlt01] == 0\n",
      "figg, (ax1g, ax2g, ax3g) = subplots(3)\n",
      "ax1g.plot(gamatbl[\"GAL_RE_G\"][zlt01][g_good],msresiduals[g_good],'.')\n",
      "ax2g.plot(gamatbl[\"GAL_INDEX_G\"][zlt01][g_good],msresiduals[g_good],'.')\n",
      "ax3g.plot(gamatbl[\"GAL_ELLIP_G\"][zlt01][g_good],msresiduals[g_good],'.')\n",
      "ax1g.set_title(\"g Band Morphology vs. Residuals\")"
     ],
     "language": "python",
     "metadata": {},
     "outputs": []
    },
    {
     "cell_type": "code",
     "collapsed": false,
     "input": [
      "r_good = gamatbl['GAL_QFLAG_R'][zlt01] == 0\n",
      "figr, (ax1r, ax2r, ax3r) = subplots(3)\n",
      "ax1r.plot(gamatbl[\"GAL_RE_R\"][zlt01][r_good],msresiduals[r_good],'.')\n",
      "ax2r.plot(gamatbl[\"GAL_INDEX_R\"][zlt01][r_good],msresiduals[r_good],'.')\n",
      "ax3r.plot(gamatbl[\"GAL_ELLIP_R\"][zlt01][r_good],msresiduals[r_good],'.')\n",
      "ax1r.set_title(\"r Band Morphology vs. Residuals\")"
     ],
     "language": "python",
     "metadata": {},
     "outputs": []
    },
    {
     "cell_type": "code",
     "collapsed": false,
     "input": [
      "i_good = gamatbl['GAL_QFLAG_I'][zlt01] == 0\n",
      "figi, (ax1i, ax2i, ax3i) = subplots(3)\n",
      "ax1i.plot(gamatbl[\"GAL_RE_I\"][zlt01][i_good],msresiduals[i_good],'.')\n",
      "ax2i.plot(gamatbl[\"GAL_INDEX_I\"][zlt01][i_good],msresiduals[i_good],'.')\n",
      "ax3i.plot(gamatbl[\"GAL_ELLIP_I\"][zlt01][i_good],msresiduals[i_good],'.')\n",
      "ax1i.set_title(\"i Band Morphology vs. Residuals\")"
     ],
     "language": "python",
     "metadata": {},
     "outputs": []
    },
    {
     "cell_type": "code",
     "collapsed": false,
     "input": [
      "z_good = gamatbl['GAL_QFLAG_Z'][zlt01] == 0\n",
      "figz, (ax1z, ax2z, ax3z) = subplots(3)\n",
      "ax1z.plot(gamatbl[\"GAL_RE_Z\"][zlt01][z_good],msresiduals[z_good],'.')\n",
      "ax2z.plot(gamatbl[\"GAL_INDEX_Z\"][zlt01][z_good],msresiduals[z_good],'.')\n",
      "ax3z.plot(gamatbl[\"GAL_ELLIP_Z\"][zlt01][z_good],msresiduals[z_good],'.')\n",
      "ax1z.set_title(\"z Band Morphology vs. Residuals\")"
     ],
     "language": "python",
     "metadata": {},
     "outputs": []
    },
    {
     "cell_type": "code",
     "collapsed": false,
     "input": [
      "y_good = gamatbl['GAL_QFLAG_Y'][zlt01] == 0\n",
      "figy, (ax1y, ax2y, ax3y) = subplots(3)\n",
      "ax1y.plot(gamatbl[\"GAL_RE_Y\"][zlt01][y_good],msresiduals[y_good],'.')\n",
      "ax2y.plot(gamatbl[\"GAL_INDEX_Y\"][zlt01][y_good],msresiduals[y_good],'.')\n",
      "ax3y.plot(gamatbl[\"GAL_ELLIP_Y\"][zlt01][y_good],msresiduals[y_good],'.')\n",
      "ax1y.set_title(\"Y Band Morphology vs. Residuals\")"
     ],
     "language": "python",
     "metadata": {},
     "outputs": []
    },
    {
     "cell_type": "code",
     "collapsed": false,
     "input": [
      "j_good = gamatbl['GAL_QFLAG_J'][zlt01] == 0\n",
      "figj, (ax1j, ax2j, ax3j) = subplots(3)\n",
      "ax1j.plot(gamatbl[\"GAL_RE_J\"][zlt01][j_good],msresiduals[j_good],'.')\n",
      "ax2j.plot(gamatbl[\"GAL_INDEX_J\"][zlt01][j_good],msresiduals[j_good],'.')\n",
      "ax3j.plot(gamatbl[\"GAL_ELLIP_J\"][zlt01][j_good],msresiduals[j_good],'.')\n",
      "ax1j.set_title(\"J Band Morphology vs. Residuals\")"
     ],
     "language": "python",
     "metadata": {},
     "outputs": []
    },
    {
     "cell_type": "code",
     "collapsed": false,
     "input": [
      "h_good = gamatbl['GAL_QFLAG_H'][zlt01] == 0\n",
      "figh, (ax1h, ax2h, ax3h) = subplots(3)\n",
      "ax1h.plot(gamatbl[\"GAL_RE_H\"][zlt01][h_good],msresiduals[h_good],'.')\n",
      "ax2h.plot(gamatbl[\"GAL_INDEX_H\"][zlt01][h_good],msresiduals[h_good],'.')\n",
      "ax3h.plot(gamatbl[\"GAL_ELLIP_H\"][zlt01][h_good],msresiduals[h_good],'.')\n",
      "ax1h.set_title(\"H Band Morphology vs. Residuals\")"
     ],
     "language": "python",
     "metadata": {},
     "outputs": []
    },
    {
     "cell_type": "code",
     "collapsed": false,
     "input": [
      "k_good = gamatbl['GAL_QFLAG_K'][zlt01] == 0\n",
      "figk, (ax1k, ax2k, ax3k) = subplots(3)\n",
      "ax1k.plot(gamatbl[\"GAL_RE_K\"][zlt01][k_good],msresiduals[k_good],'.')\n",
      "ax2k.plot(gamatbl[\"GAL_INDEX_K\"][zlt01][k_good],msresiduals[k_good],'.')\n",
      "ax3k.plot(gamatbl[\"GAL_ELLIP_K\"][zlt01][k_good],msresiduals[k_good],'.')\n",
      "ax1k.set_title(\"K Band Morphology vs. Residuals\")"
     ],
     "language": "python",
     "metadata": {},
     "outputs": []
    },
    {
     "cell_type": "code",
     "collapsed": false,
     "input": [],
     "language": "python",
     "metadata": {},
     "outputs": []
    }
   ],
   "metadata": {}
  }
 ]
}