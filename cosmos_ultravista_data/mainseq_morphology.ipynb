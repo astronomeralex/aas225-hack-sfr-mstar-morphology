{
 "metadata": {
  "name": "",
  "signature": "sha256:6f8258c6decc31088878856ce75234d9754d9ae3d2fa0217e7b3f15d570fc9ff"
 },
 "nbformat": 3,
 "nbformat_minor": 0,
 "worksheets": [
  {
   "cells": [
    {
     "cell_type": "code",
     "collapsed": false,
     "input": [
      "from astropy.io import ascii\n",
      "import numpy as np\n",
      "import scipy.stats\n",
      "import matplotlib\n",
      "from matplotlib.pyplot import *\n",
      "%matplotlib inline\n",
      "from ecdf import ecdf"
     ],
     "language": "python",
     "metadata": {},
     "outputs": []
    },
    {
     "cell_type": "code",
     "collapsed": false,
     "input": [
      "cat = ascii.read(\"matched_cat_0.5arcsec_2arcsec_uniq.cat\")\n",
      "cat = cat[cat['SFR_tot']>0]\n",
      "cat = cat[cat['gg']!='--']\n",
      "cat = cat[cat['m20']!='--']\n",
      "cat = cat[cat['cc']!='--']\n",
      "cat = cat[cat['aa']!='--']"
     ],
     "language": "python",
     "metadata": {},
     "outputs": []
    },
    {
     "cell_type": "code",
     "collapsed": false,
     "input": [
      "cat.colnames"
     ],
     "language": "python",
     "metadata": {},
     "outputs": []
    },
    {
     "cell_type": "code",
     "collapsed": false,
     "input": [
      "zx,zy,zvar = ecdf(cat[\"z_peak\"])\n",
      "plot(zx,zy)"
     ],
     "language": "python",
     "metadata": {},
     "outputs": []
    },
    {
     "cell_type": "code",
     "collapsed": false,
     "input": [
      "semilogy(cat[\"LMASS\"][::20],cat[\"SFR_tot\"][::20],'.')\n",
      "ylim(.1,1000)\n",
      "xlim(8,11.5)\n",
      "#MAKE Contour plots\n",
      "slope, intercept, loslope, highslope = scipy.stats.theilslopes(x=cat['LMASS'][::20],y=np.log10(cat[\"SFR_tot\"][::20]))\n",
      "plot(np.linspace(8,12,100),10**(slope*np.linspace(8,12,100) + intercept))"
     ],
     "language": "python",
     "metadata": {},
     "outputs": []
    },
    {
     "cell_type": "code",
     "collapsed": false,
     "input": [
      "plot(np.linspace"
     ],
     "language": "python",
     "metadata": {},
     "outputs": []
    },
    {
     "cell_type": "code",
     "collapsed": false,
     "input": [
      "semilogx(cat[\"SFR_tot\"],cat[\"gg\"],'.')"
     ],
     "language": "python",
     "metadata": {},
     "outputs": []
    },
    {
     "cell_type": "code",
     "collapsed": false,
     "input": [
      "semilogx(cat[\"SFR_tot\"],cat[\"m20\"],'.')"
     ],
     "language": "python",
     "metadata": {},
     "outputs": []
    },
    {
     "cell_type": "code",
     "collapsed": false,
     "input": [
      "semilogx(cat[\"SFR_tot\"],cat[\"cc\"],'.')"
     ],
     "language": "python",
     "metadata": {},
     "outputs": []
    },
    {
     "cell_type": "code",
     "collapsed": false,
     "input": [
      "semilogx(cat[\"SFR_tot\"],cat[\"aa\"],'.')"
     ],
     "language": "python",
     "metadata": {},
     "outputs": []
    },
    {
     "cell_type": "code",
     "collapsed": false,
     "input": [],
     "language": "python",
     "metadata": {},
     "outputs": []
    },
    {
     "cell_type": "code",
     "collapsed": false,
     "input": [],
     "language": "python",
     "metadata": {},
     "outputs": []
    }
   ],
   "metadata": {}
  }
 ]
}